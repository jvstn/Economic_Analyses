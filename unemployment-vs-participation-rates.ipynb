{
 "cells": [
  {
   "cell_type": "code",
   "execution_count": 1,
   "id": "e3013545",
   "metadata": {
    "execution": {
     "iopub.execute_input": "2023-07-07T19:51:23.093962Z",
     "iopub.status.busy": "2023-07-07T19:51:23.093599Z",
     "iopub.status.idle": "2023-07-07T19:51:33.959813Z",
     "shell.execute_reply": "2023-07-07T19:51:33.958898Z"
    },
    "papermill": {
     "duration": 10.875124,
     "end_time": "2023-07-07T19:51:33.963029",
     "exception": false,
     "start_time": "2023-07-07T19:51:23.087905",
     "status": "completed"
    },
    "tags": []
   },
   "outputs": [
    {
     "name": "stdout",
     "output_type": "stream",
     "text": [
      "\u001b[33mWARNING: Running pip as the 'root' user can result in broken permissions and conflicting behaviour with the system package manager. It is recommended to use a virtual environment instead: https://pip.pypa.io/warnings/venv\u001b[0m\u001b[33m\r\n",
      "\u001b[0m"
     ]
    }
   ],
   "source": [
    "!pip install fredapi > /dev/null\n"
   ]
  },
  {
   "cell_type": "code",
   "execution_count": 2,
   "id": "b788c48a",
   "metadata": {
    "_cell_guid": "b1076dfc-b9ad-4769-8c92-a6c4dae69d19",
    "_uuid": "8f2839f25d086af736a60e9eeb907d3b93b6e0e5",
    "execution": {
     "iopub.execute_input": "2023-07-07T19:51:33.973765Z",
     "iopub.status.busy": "2023-07-07T19:51:33.973114Z",
     "iopub.status.idle": "2023-07-07T19:51:34.774979Z",
     "shell.execute_reply": "2023-07-07T19:51:34.773648Z"
    },
    "papermill": {
     "duration": 0.809675,
     "end_time": "2023-07-07T19:51:34.777176",
     "exception": false,
     "start_time": "2023-07-07T19:51:33.967501",
     "status": "completed"
    },
    "tags": []
   },
   "outputs": [],
   "source": [
    "\n",
    "import numpy as np # linear algebra\n",
    "import pandas as pd # data processing, CSV file I/O (e.g. pd.read_csv)\n",
    "import matplotlib.pyplot as plt\n",
    "import plotly.express as px\n",
    "\n",
    "plt.style.use('fivethirtyeight')\n",
    "pd.set_option('display.max_colwidth', 500)\n",
    "\n",
    "color_pal = plt.rcParams['axes.prop_cycle'].by_key()['color']\n",
    "\n",
    "from fredapi import Fred\n"
   ]
  },
  {
   "cell_type": "code",
   "execution_count": 3,
   "id": "651e8792",
   "metadata": {
    "execution": {
     "iopub.execute_input": "2023-07-07T19:51:34.787302Z",
     "iopub.status.busy": "2023-07-07T19:51:34.786908Z",
     "iopub.status.idle": "2023-07-07T19:51:35.027337Z",
     "shell.execute_reply": "2023-07-07T19:51:35.026001Z"
    },
    "papermill": {
     "duration": 0.248711,
     "end_time": "2023-07-07T19:51:35.030032",
     "exception": false,
     "start_time": "2023-07-07T19:51:34.781321",
     "status": "completed"
    },
    "tags": []
   },
   "outputs": [],
   "source": [
    "from kaggle_secrets import UserSecretsClient\n",
    "user_secrets = UserSecretsClient()\n",
    "fred_key = user_secrets.get_secret(\"fredapi_key\")"
   ]
  },
  {
   "cell_type": "markdown",
   "id": "7d53af63",
   "metadata": {
    "papermill": {
     "duration": 0.003679,
     "end_time": "2023-07-07T19:51:35.038326",
     "exception": false,
     "start_time": "2023-07-07T19:51:35.034647",
     "status": "completed"
    },
    "tags": []
   },
   "source": [
    "# Create the Fred Object"
   ]
  },
  {
   "cell_type": "code",
   "execution_count": 4,
   "id": "e965bea1",
   "metadata": {
    "execution": {
     "iopub.execute_input": "2023-07-07T19:51:35.047309Z",
     "iopub.status.busy": "2023-07-07T19:51:35.046956Z",
     "iopub.status.idle": "2023-07-07T19:51:35.053007Z",
     "shell.execute_reply": "2023-07-07T19:51:35.051626Z"
    },
    "papermill": {
     "duration": 0.013641,
     "end_time": "2023-07-07T19:51:35.055631",
     "exception": false,
     "start_time": "2023-07-07T19:51:35.041990",
     "status": "completed"
    },
    "tags": []
   },
   "outputs": [],
   "source": [
    "fred = Fred(api_key=fred_key)\n",
    "\n"
   ]
  },
  {
   "cell_type": "markdown",
   "id": "14c08c21",
   "metadata": {
    "papermill": {
     "duration": 0.003494,
     "end_time": "2023-07-07T19:51:35.063246",
     "exception": false,
     "start_time": "2023-07-07T19:51:35.059752",
     "status": "completed"
    },
    "tags": []
   },
   "source": [
    "# 2. Search for Economic Data"
   ]
  },
  {
   "cell_type": "code",
   "execution_count": 5,
   "id": "3143e0a2",
   "metadata": {
    "execution": {
     "iopub.execute_input": "2023-07-07T19:51:35.072232Z",
     "iopub.status.busy": "2023-07-07T19:51:35.071877Z",
     "iopub.status.idle": "2023-07-07T19:51:37.356514Z",
     "shell.execute_reply": "2023-07-07T19:51:37.355131Z"
    },
    "papermill": {
     "duration": 2.292322,
     "end_time": "2023-07-07T19:51:37.359376",
     "exception": false,
     "start_time": "2023-07-07T19:51:35.067054",
     "status": "completed"
    },
    "tags": []
   },
   "outputs": [],
   "source": [
    "sp_search = fred.search('S&P', order_by='popularity')"
   ]
  },
  {
   "cell_type": "code",
   "execution_count": 6,
   "id": "c02d4b24",
   "metadata": {
    "execution": {
     "iopub.execute_input": "2023-07-07T19:51:37.370532Z",
     "iopub.status.busy": "2023-07-07T19:51:37.370200Z",
     "iopub.status.idle": "2023-07-07T19:51:37.399804Z",
     "shell.execute_reply": "2023-07-07T19:51:37.398763Z"
    },
    "papermill": {
     "duration": 0.036927,
     "end_time": "2023-07-07T19:51:37.401980",
     "exception": false,
     "start_time": "2023-07-07T19:51:37.365053",
     "status": "completed"
    },
    "tags": []
   },
   "outputs": [
    {
     "data": {
      "text/html": [
       "<div>\n",
       "<style scoped>\n",
       "    .dataframe tbody tr th:only-of-type {\n",
       "        vertical-align: middle;\n",
       "    }\n",
       "\n",
       "    .dataframe tbody tr th {\n",
       "        vertical-align: top;\n",
       "    }\n",
       "\n",
       "    .dataframe thead th {\n",
       "        text-align: right;\n",
       "    }\n",
       "</style>\n",
       "<table border=\"1\" class=\"dataframe\">\n",
       "  <thead>\n",
       "    <tr style=\"text-align: right;\">\n",
       "      <th></th>\n",
       "      <th>id</th>\n",
       "      <th>realtime_start</th>\n",
       "      <th>realtime_end</th>\n",
       "      <th>title</th>\n",
       "      <th>observation_start</th>\n",
       "      <th>observation_end</th>\n",
       "      <th>frequency</th>\n",
       "      <th>frequency_short</th>\n",
       "      <th>units</th>\n",
       "      <th>units_short</th>\n",
       "      <th>seasonal_adjustment</th>\n",
       "      <th>seasonal_adjustment_short</th>\n",
       "      <th>last_updated</th>\n",
       "      <th>popularity</th>\n",
       "      <th>notes</th>\n",
       "    </tr>\n",
       "    <tr>\n",
       "      <th>series id</th>\n",
       "      <th></th>\n",
       "      <th></th>\n",
       "      <th></th>\n",
       "      <th></th>\n",
       "      <th></th>\n",
       "      <th></th>\n",
       "      <th></th>\n",
       "      <th></th>\n",
       "      <th></th>\n",
       "      <th></th>\n",
       "      <th></th>\n",
       "      <th></th>\n",
       "      <th></th>\n",
       "      <th></th>\n",
       "      <th></th>\n",
       "    </tr>\n",
       "  </thead>\n",
       "  <tbody>\n",
       "    <tr>\n",
       "      <th>BAMLH0A0HYM2</th>\n",
       "      <td>BAMLH0A0HYM2</td>\n",
       "      <td>2023-07-07</td>\n",
       "      <td>2023-07-07</td>\n",
       "      <td>ICE BofA US High Yield Index Option-Adjusted Spread</td>\n",
       "      <td>1996-12-31</td>\n",
       "      <td>2023-07-06</td>\n",
       "      <td>Daily, Close</td>\n",
       "      <td>D</td>\n",
       "      <td>Percent</td>\n",
       "      <td>%</td>\n",
       "      <td>Not Seasonally Adjusted</td>\n",
       "      <td>NSA</td>\n",
       "      <td>2023-07-07 08:34:08-05:00</td>\n",
       "      <td>94</td>\n",
       "      <td>The ICE BofA Option-Adjusted Spreads (OASs) are the calculated spreads between a computed OAS index of all bonds in a given rating category and a spot Treasury curve. An OAS index is constructed using each constituent bond's OAS, weighted by market capitalization. The ICE BofA High Yield Master II OAS uses an index of bonds that are below investment grade (those rated BB or below). This data represents the ICE BofA US High Yield Index value, which tracks the performance of US dollar denomina...</td>\n",
       "    </tr>\n",
       "    <tr>\n",
       "      <th>CSUSHPINSA</th>\n",
       "      <td>CSUSHPINSA</td>\n",
       "      <td>2023-07-07</td>\n",
       "      <td>2023-07-07</td>\n",
       "      <td>S&amp;P/Case-Shiller U.S. National Home Price Index</td>\n",
       "      <td>1987-01-01</td>\n",
       "      <td>2023-04-01</td>\n",
       "      <td>Monthly</td>\n",
       "      <td>M</td>\n",
       "      <td>Index Jan 2000=100</td>\n",
       "      <td>Index Jan 2000=100</td>\n",
       "      <td>Not Seasonally Adjusted</td>\n",
       "      <td>NSA</td>\n",
       "      <td>2023-06-27 08:13:02-05:00</td>\n",
       "      <td>90</td>\n",
       "      <td>For more information regarding the index, please visit Standard &amp; Poor's (https://www.spglobal.com/spdji/en/documents/methodologies/methodology-sp-corelogic-cs-home-price-indices.pdf). There is more information about home price sales pairs in the Methodology section. Copyright, 2016, Standard &amp; Poor's Financial Services LLC. Reprinted with permission.</td>\n",
       "    </tr>\n",
       "    <tr>\n",
       "      <th>BAMLH0A0HYM2EY</th>\n",
       "      <td>BAMLH0A0HYM2EY</td>\n",
       "      <td>2023-07-07</td>\n",
       "      <td>2023-07-07</td>\n",
       "      <td>ICE BofA US High Yield Index Effective Yield</td>\n",
       "      <td>1996-12-31</td>\n",
       "      <td>2023-07-06</td>\n",
       "      <td>Daily, Close</td>\n",
       "      <td>D</td>\n",
       "      <td>Percent</td>\n",
       "      <td>%</td>\n",
       "      <td>Not Seasonally Adjusted</td>\n",
       "      <td>NSA</td>\n",
       "      <td>2023-07-07 08:34:12-05:00</td>\n",
       "      <td>83</td>\n",
       "      <td>This data represents the effective yield of the ICE BofA US High Yield Index, which tracks the performance of US dollar denominated below investment grade rated corporate debt publicly issued in the US domestic market. To qualify for inclusion in the index, securities must have a below investment grade rating (based on an average of Moody's, S&amp;P, and Fitch) and an investment grade rated country of risk (based on an average of Moody's, S&amp;P, and Fitch foreign currency long term sovereign debt ...</td>\n",
       "    </tr>\n",
       "    <tr>\n",
       "      <th>SP500</th>\n",
       "      <td>SP500</td>\n",
       "      <td>2023-07-07</td>\n",
       "      <td>2023-07-07</td>\n",
       "      <td>S&amp;P 500</td>\n",
       "      <td>2013-07-08</td>\n",
       "      <td>2023-07-06</td>\n",
       "      <td>Daily, Close</td>\n",
       "      <td>D</td>\n",
       "      <td>Index</td>\n",
       "      <td>Index</td>\n",
       "      <td>Not Seasonally Adjusted</td>\n",
       "      <td>NSA</td>\n",
       "      <td>2023-07-06 19:10:50-05:00</td>\n",
       "      <td>82</td>\n",
       "      <td>The observations for the S&amp;P 500 represent the daily index value at market close. The market typically closes at 4 PM ET, except for holidays when it sometimes closes early.  The Federal Reserve Bank of St. Louis and S&amp;P Dow Jones Indices LLC have reached a new agreement on the use of Standard &amp; Poors and Dow Jones Averages series in FRED. FRED and its associated services will include 10 years of daily history for Standard &amp; Poors and Dow Jones Averages series.  The S&amp;P 500 is regarded as a ...</td>\n",
       "    </tr>\n",
       "    <tr>\n",
       "      <th>MEHOINUSA672N</th>\n",
       "      <td>MEHOINUSA672N</td>\n",
       "      <td>2023-07-07</td>\n",
       "      <td>2023-07-07</td>\n",
       "      <td>Real Median Household Income in the United States</td>\n",
       "      <td>1984-01-01</td>\n",
       "      <td>2021-01-01</td>\n",
       "      <td>Annual</td>\n",
       "      <td>A</td>\n",
       "      <td>2021 CPI-U-RS Adjusted Dollars</td>\n",
       "      <td>2021 CPI-U-RS Adjusted $</td>\n",
       "      <td>Not Seasonally Adjusted</td>\n",
       "      <td>NSA</td>\n",
       "      <td>2022-09-13 13:48:01-05:00</td>\n",
       "      <td>81</td>\n",
       "      <td>Household data are collected as of March.  As stated in the Census's Source and Accuracy of Estimates for Income, Poverty, and Health Insurance Coverage in the United States: 2011 (http://www.census.gov/hhes/www/p60_243sa.pdf).  Estimation of Median Incomes. The Census Bureau has changed the methodology for computing median income over time. The Census Bureau has computed medians using either Pareto interpolation or linear interpolation. Currently, we are using linear interpolation to estima...</td>\n",
       "    </tr>\n",
       "  </tbody>\n",
       "</table>\n",
       "</div>"
      ],
      "text/plain": [
       "                            id realtime_start realtime_end  \\\n",
       "series id                                                    \n",
       "BAMLH0A0HYM2      BAMLH0A0HYM2     2023-07-07   2023-07-07   \n",
       "CSUSHPINSA          CSUSHPINSA     2023-07-07   2023-07-07   \n",
       "BAMLH0A0HYM2EY  BAMLH0A0HYM2EY     2023-07-07   2023-07-07   \n",
       "SP500                    SP500     2023-07-07   2023-07-07   \n",
       "MEHOINUSA672N    MEHOINUSA672N     2023-07-07   2023-07-07   \n",
       "\n",
       "                                                              title  \\\n",
       "series id                                                             \n",
       "BAMLH0A0HYM2    ICE BofA US High Yield Index Option-Adjusted Spread   \n",
       "CSUSHPINSA          S&P/Case-Shiller U.S. National Home Price Index   \n",
       "BAMLH0A0HYM2EY         ICE BofA US High Yield Index Effective Yield   \n",
       "SP500                                                       S&P 500   \n",
       "MEHOINUSA672N     Real Median Household Income in the United States   \n",
       "\n",
       "               observation_start observation_end     frequency  \\\n",
       "series id                                                        \n",
       "BAMLH0A0HYM2          1996-12-31      2023-07-06  Daily, Close   \n",
       "CSUSHPINSA            1987-01-01      2023-04-01       Monthly   \n",
       "BAMLH0A0HYM2EY        1996-12-31      2023-07-06  Daily, Close   \n",
       "SP500                 2013-07-08      2023-07-06  Daily, Close   \n",
       "MEHOINUSA672N         1984-01-01      2021-01-01        Annual   \n",
       "\n",
       "               frequency_short                           units  \\\n",
       "series id                                                        \n",
       "BAMLH0A0HYM2                 D                         Percent   \n",
       "CSUSHPINSA                   M              Index Jan 2000=100   \n",
       "BAMLH0A0HYM2EY               D                         Percent   \n",
       "SP500                        D                           Index   \n",
       "MEHOINUSA672N                A  2021 CPI-U-RS Adjusted Dollars   \n",
       "\n",
       "                             units_short      seasonal_adjustment  \\\n",
       "series id                                                           \n",
       "BAMLH0A0HYM2                           %  Not Seasonally Adjusted   \n",
       "CSUSHPINSA            Index Jan 2000=100  Not Seasonally Adjusted   \n",
       "BAMLH0A0HYM2EY                         %  Not Seasonally Adjusted   \n",
       "SP500                              Index  Not Seasonally Adjusted   \n",
       "MEHOINUSA672N   2021 CPI-U-RS Adjusted $  Not Seasonally Adjusted   \n",
       "\n",
       "               seasonal_adjustment_short               last_updated  \\\n",
       "series id                                                             \n",
       "BAMLH0A0HYM2                         NSA  2023-07-07 08:34:08-05:00   \n",
       "CSUSHPINSA                           NSA  2023-06-27 08:13:02-05:00   \n",
       "BAMLH0A0HYM2EY                       NSA  2023-07-07 08:34:12-05:00   \n",
       "SP500                                NSA  2023-07-06 19:10:50-05:00   \n",
       "MEHOINUSA672N                        NSA  2022-09-13 13:48:01-05:00   \n",
       "\n",
       "               popularity  \\\n",
       "series id                   \n",
       "BAMLH0A0HYM2           94   \n",
       "CSUSHPINSA             90   \n",
       "BAMLH0A0HYM2EY         83   \n",
       "SP500                  82   \n",
       "MEHOINUSA672N          81   \n",
       "\n",
       "                                                                                                                                                                                                                                                                                                                                                                                                                                                                                                                              notes  \n",
       "series id                                                                                                                                                                                                                                                                                                                                                                                                                                                                                                                            \n",
       "BAMLH0A0HYM2    The ICE BofA Option-Adjusted Spreads (OASs) are the calculated spreads between a computed OAS index of all bonds in a given rating category and a spot Treasury curve. An OAS index is constructed using each constituent bond's OAS, weighted by market capitalization. The ICE BofA High Yield Master II OAS uses an index of bonds that are below investment grade (those rated BB or below). This data represents the ICE BofA US High Yield Index value, which tracks the performance of US dollar denomina...  \n",
       "CSUSHPINSA                                                                                                                                                        For more information regarding the index, please visit Standard & Poor's (https://www.spglobal.com/spdji/en/documents/methodologies/methodology-sp-corelogic-cs-home-price-indices.pdf). There is more information about home price sales pairs in the Methodology section. Copyright, 2016, Standard & Poor's Financial Services LLC. Reprinted with permission.  \n",
       "BAMLH0A0HYM2EY  This data represents the effective yield of the ICE BofA US High Yield Index, which tracks the performance of US dollar denominated below investment grade rated corporate debt publicly issued in the US domestic market. To qualify for inclusion in the index, securities must have a below investment grade rating (based on an average of Moody's, S&P, and Fitch) and an investment grade rated country of risk (based on an average of Moody's, S&P, and Fitch foreign currency long term sovereign debt ...  \n",
       "SP500           The observations for the S&P 500 represent the daily index value at market close. The market typically closes at 4 PM ET, except for holidays when it sometimes closes early.  The Federal Reserve Bank of St. Louis and S&P Dow Jones Indices LLC have reached a new agreement on the use of Standard & Poors and Dow Jones Averages series in FRED. FRED and its associated services will include 10 years of daily history for Standard & Poors and Dow Jones Averages series.  The S&P 500 is regarded as a ...  \n",
       "MEHOINUSA672N   Household data are collected as of March.  As stated in the Census's Source and Accuracy of Estimates for Income, Poverty, and Health Insurance Coverage in the United States: 2011 (http://www.census.gov/hhes/www/p60_243sa.pdf).  Estimation of Median Incomes. The Census Bureau has changed the methodology for computing median income over time. The Census Bureau has computed medians using either Pareto interpolation or linear interpolation. Currently, we are using linear interpolation to estima...  "
      ]
     },
     "execution_count": 6,
     "metadata": {},
     "output_type": "execute_result"
    }
   ],
   "source": [
    "sp_search.head()"
   ]
  },
  {
   "cell_type": "markdown",
   "id": "44075157",
   "metadata": {
    "execution": {
     "iopub.execute_input": "2023-07-07T18:51:47.913281Z",
     "iopub.status.busy": "2023-07-07T18:51:47.912869Z",
     "iopub.status.idle": "2023-07-07T18:51:47.918866Z",
     "shell.execute_reply": "2023-07-07T18:51:47.917018Z",
     "shell.execute_reply.started": "2023-07-07T18:51:47.913250Z"
    },
    "papermill": {
     "duration": 0.003711,
     "end_time": "2023-07-07T19:51:37.410199",
     "exception": false,
     "start_time": "2023-07-07T19:51:37.406488",
     "status": "completed"
    },
    "tags": []
   },
   "source": [
    "# Pull raw data"
   ]
  },
  {
   "cell_type": "code",
   "execution_count": 7,
   "id": "57a14787",
   "metadata": {
    "execution": {
     "iopub.execute_input": "2023-07-07T19:51:37.419486Z",
     "iopub.status.busy": "2023-07-07T19:51:37.419135Z",
     "iopub.status.idle": "2023-07-07T19:51:38.522470Z",
     "shell.execute_reply": "2023-07-07T19:51:38.521473Z"
    },
    "papermill": {
     "duration": 1.110318,
     "end_time": "2023-07-07T19:51:38.524490",
     "exception": false,
     "start_time": "2023-07-07T19:51:37.414172",
     "status": "completed"
    },
    "tags": []
   },
   "outputs": [
    {
     "data": {
      "text/plain": [
       "<Axes: title={'center': 'S&P 500'}>"
      ]
     },
     "execution_count": 7,
     "metadata": {},
     "output_type": "execute_result"
    },
    {
     "data": {
      "image/png": "[encoded data removed]",
      "text/plain": [
       "<Figure size 1000x500 with 1 Axes>"
      ]
     },
     "metadata": {},
     "output_type": "display_data"
    }
   ],
   "source": [
    "sp500 = fred.get_series(series_id='SP500')\n",
    "sp500.plot(figsize=(10,5), title=\"S&P 500\", lw=2)"
   ]
  },
  {
   "cell_type": "code",
   "execution_count": 8,
   "id": "06ddb60a",
   "metadata": {
    "execution": {
     "iopub.execute_input": "2023-07-07T19:51:38.535384Z",
     "iopub.status.busy": "2023-07-07T19:51:38.535051Z",
     "iopub.status.idle": "2023-07-07T19:51:38.539324Z",
     "shell.execute_reply": "2023-07-07T19:51:38.538464Z"
    },
    "papermill": {
     "duration": 0.012109,
     "end_time": "2023-07-07T19:51:38.541367",
     "exception": false,
     "start_time": "2023-07-07T19:51:38.529258",
     "status": "completed"
    },
    "tags": []
   },
   "outputs": [],
   "source": [
    "# Pull and Join Multiple Data Series"
   ]
  },
  {
   "cell_type": "code",
   "execution_count": 9,
   "id": "83cf93ae",
   "metadata": {
    "execution": {
     "iopub.execute_input": "2023-07-07T19:51:38.553607Z",
     "iopub.status.busy": "2023-07-07T19:51:38.553278Z",
     "iopub.status.idle": "2023-07-07T19:51:41.997414Z",
     "shell.execute_reply": "2023-07-07T19:51:41.995801Z"
    },
    "papermill": {
     "duration": 3.452671,
     "end_time": "2023-07-07T19:51:41.999774",
     "exception": false,
     "start_time": "2023-07-07T19:51:38.547103",
     "status": "completed"
    },
    "tags": []
   },
   "outputs": [],
   "source": [
    "uempl_results = fred.search(\"unemployment\")"
   ]
  },
  {
   "cell_type": "code",
   "execution_count": 10,
   "id": "b6a4a1af",
   "metadata": {
    "execution": {
     "iopub.execute_input": "2023-07-07T19:51:42.010886Z",
     "iopub.status.busy": "2023-07-07T19:51:42.010501Z",
     "iopub.status.idle": "2023-07-07T19:51:42.386481Z",
     "shell.execute_reply": "2023-07-07T19:51:42.385309Z"
    },
    "papermill": {
     "duration": 0.384164,
     "end_time": "2023-07-07T19:51:42.388762",
     "exception": false,
     "start_time": "2023-07-07T19:51:42.004598",
     "status": "completed"
    },
    "tags": []
   },
   "outputs": [],
   "source": [
    "unrate = fred.get_series(\"unrate\")"
   ]
  },
  {
   "cell_type": "code",
   "execution_count": 11,
   "id": "a2a9517f",
   "metadata": {
    "execution": {
     "iopub.execute_input": "2023-07-07T19:51:42.400794Z",
     "iopub.status.busy": "2023-07-07T19:51:42.399667Z",
     "iopub.status.idle": "2023-07-07T19:51:44.811513Z",
     "shell.execute_reply": "2023-07-07T19:51:44.810017Z"
    },
    "papermill": {
     "duration": 2.420301,
     "end_time": "2023-07-07T19:51:44.814049",
     "exception": false,
     "start_time": "2023-07-07T19:51:42.393748",
     "status": "completed"
    },
    "tags": []
   },
   "outputs": [],
   "source": [
    "unemp_df = fred.search('unemployment state', filter=('frequency', 'Monthly'))\n",
    "unemp_df = unemp_df.query('seasonal_adjustment == \"Seasonally Adjusted\" and units == \"Percent\"')\n",
    "unemp_df = unemp_df.loc[unemp_df['title'].str.contains('Unemployment Rate')]\n",
    "\n"
   ]
  },
  {
   "cell_type": "code",
   "execution_count": 12,
   "id": "4bea2c73",
   "metadata": {
    "execution": {
     "iopub.execute_input": "2023-07-07T19:51:44.825597Z",
     "iopub.status.busy": "2023-07-07T19:51:44.825228Z",
     "iopub.status.idle": "2023-07-07T19:51:45.197876Z",
     "shell.execute_reply": "2023-07-07T19:51:45.196970Z"
    },
    "papermill": {
     "duration": 0.380975,
     "end_time": "2023-07-07T19:51:45.200142",
     "exception": false,
     "start_time": "2023-07-07T19:51:44.819167",
     "status": "completed"
    },
    "tags": []
   },
   "outputs": [],
   "source": [
    "all_results = []\n",
    "\n",
    "for myid in unemp_df.index:\n",
    "    results = fred.get_series(myid)\n",
    "    results = results.to_frame(name=myid)\n",
    "    all_results.append(results)\n",
    "    break"
   ]
  },
  {
   "cell_type": "code",
   "execution_count": null,
   "id": "8a94f76e",
   "metadata": {
    "papermill": {
     "duration": 0.004471,
     "end_time": "2023-07-07T19:51:45.209546",
     "exception": false,
     "start_time": "2023-07-07T19:51:45.205075",
     "status": "completed"
    },
    "tags": []
   },
   "outputs": [],
   "source": []
  }
 ],
 "metadata": {
  "kernelspec": {
   "display_name": "Python 3",
   "language": "python",
   "name": "python3"
  },
  "language_info": {
   "codemirror_mode": {
    "name": "ipython",
    "version": 3
   },
   "file_extension": ".py",
   "mimetype": "text/x-python",
   "name": "python",
   "nbconvert_exporter": "python",
   "pygments_lexer": "ipython3",
   "version": "3.10.10"
  },
  "papermill": {
   "default_parameters": {},
   "duration": 32.470568,
   "end_time": "2023-07-07T19:51:46.135411",
   "environment_variables": {},
   "exception": null,
   "input_path": "__notebook__.ipynb",
   "output_path": "__notebook__.ipynb",
   "parameters": {},
   "start_time": "2023-07-07T19:51:13.664843",
   "version": "2.4.0"
  }
 },
 "nbformat": 4,
 "nbformat_minor": 5
}
